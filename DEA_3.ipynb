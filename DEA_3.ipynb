{
 "cells": [
  {
   "cell_type": "markdown",
   "id": "842e0f3f-6576-46fd-862a-716fa7024373",
   "metadata": {},
   "source": [
    "### DEA"
   ]
  },
  {
   "cell_type": "code",
   "execution_count": 28,
   "id": "c2f9cb42-7e68-484b-af7f-1dcaa13ea37d",
   "metadata": {},
   "outputs": [],
   "source": [
    "# librerias\n",
    "import numpy as np\n",
    "import pandas as pd\n",
    "import seaborn as sns\n",
    "import matplotlib.pyplot as plt\n",
    "import warnings\n",
    "from scipy.stats import skew\n",
    "from scipy.stats import pearsonr\n",
    "\n",
    "warnings.filterwarnings('ignore')\n",
    "%matplotlib inline"
   ]
  },
  {
   "cell_type": "code",
   "execution_count": 29,
   "id": "7d591f9c-29be-4441-9875-86767bb9cf7e",
   "metadata": {},
   "outputs": [
    {
     "data": {
      "text/html": [
       "<div>\n",
       "<style scoped>\n",
       "    .dataframe tbody tr th:only-of-type {\n",
       "        vertical-align: middle;\n",
       "    }\n",
       "\n",
       "    .dataframe tbody tr th {\n",
       "        vertical-align: top;\n",
       "    }\n",
       "\n",
       "    .dataframe thead th {\n",
       "        text-align: right;\n",
       "    }\n",
       "</style>\n",
       "<table border=\"1\" class=\"dataframe\">\n",
       "  <thead>\n",
       "    <tr style=\"text-align: right;\">\n",
       "      <th></th>\n",
       "      <th>school</th>\n",
       "      <th>sex</th>\n",
       "      <th>age</th>\n",
       "      <th>address</th>\n",
       "      <th>famsize</th>\n",
       "      <th>Pstatus</th>\n",
       "      <th>Medu</th>\n",
       "      <th>Fedu</th>\n",
       "      <th>Mjob</th>\n",
       "      <th>Fjob</th>\n",
       "      <th>...</th>\n",
       "      <th>famrel</th>\n",
       "      <th>freetime</th>\n",
       "      <th>goout</th>\n",
       "      <th>Dalc</th>\n",
       "      <th>Walc</th>\n",
       "      <th>health</th>\n",
       "      <th>absences</th>\n",
       "      <th>G1</th>\n",
       "      <th>G2</th>\n",
       "      <th>G3</th>\n",
       "    </tr>\n",
       "  </thead>\n",
       "  <tbody>\n",
       "    <tr>\n",
       "      <th>0</th>\n",
       "      <td>GP</td>\n",
       "      <td>F</td>\n",
       "      <td>18</td>\n",
       "      <td>U</td>\n",
       "      <td>GT3</td>\n",
       "      <td>A</td>\n",
       "      <td>4</td>\n",
       "      <td>4</td>\n",
       "      <td>at_home</td>\n",
       "      <td>teacher</td>\n",
       "      <td>...</td>\n",
       "      <td>4</td>\n",
       "      <td>3</td>\n",
       "      <td>4</td>\n",
       "      <td>1</td>\n",
       "      <td>1</td>\n",
       "      <td>3</td>\n",
       "      <td>6</td>\n",
       "      <td>5</td>\n",
       "      <td>6</td>\n",
       "      <td>6</td>\n",
       "    </tr>\n",
       "    <tr>\n",
       "      <th>1</th>\n",
       "      <td>GP</td>\n",
       "      <td>F</td>\n",
       "      <td>17</td>\n",
       "      <td>U</td>\n",
       "      <td>GT3</td>\n",
       "      <td>T</td>\n",
       "      <td>1</td>\n",
       "      <td>1</td>\n",
       "      <td>at_home</td>\n",
       "      <td>other</td>\n",
       "      <td>...</td>\n",
       "      <td>5</td>\n",
       "      <td>3</td>\n",
       "      <td>3</td>\n",
       "      <td>1</td>\n",
       "      <td>1</td>\n",
       "      <td>3</td>\n",
       "      <td>4</td>\n",
       "      <td>5</td>\n",
       "      <td>5</td>\n",
       "      <td>6</td>\n",
       "    </tr>\n",
       "    <tr>\n",
       "      <th>2</th>\n",
       "      <td>GP</td>\n",
       "      <td>F</td>\n",
       "      <td>15</td>\n",
       "      <td>U</td>\n",
       "      <td>LE3</td>\n",
       "      <td>T</td>\n",
       "      <td>1</td>\n",
       "      <td>1</td>\n",
       "      <td>at_home</td>\n",
       "      <td>other</td>\n",
       "      <td>...</td>\n",
       "      <td>4</td>\n",
       "      <td>3</td>\n",
       "      <td>2</td>\n",
       "      <td>2</td>\n",
       "      <td>3</td>\n",
       "      <td>3</td>\n",
       "      <td>10</td>\n",
       "      <td>7</td>\n",
       "      <td>8</td>\n",
       "      <td>10</td>\n",
       "    </tr>\n",
       "    <tr>\n",
       "      <th>3</th>\n",
       "      <td>GP</td>\n",
       "      <td>F</td>\n",
       "      <td>15</td>\n",
       "      <td>U</td>\n",
       "      <td>GT3</td>\n",
       "      <td>T</td>\n",
       "      <td>4</td>\n",
       "      <td>2</td>\n",
       "      <td>health</td>\n",
       "      <td>services</td>\n",
       "      <td>...</td>\n",
       "      <td>3</td>\n",
       "      <td>2</td>\n",
       "      <td>2</td>\n",
       "      <td>1</td>\n",
       "      <td>1</td>\n",
       "      <td>5</td>\n",
       "      <td>2</td>\n",
       "      <td>15</td>\n",
       "      <td>14</td>\n",
       "      <td>15</td>\n",
       "    </tr>\n",
       "    <tr>\n",
       "      <th>4</th>\n",
       "      <td>GP</td>\n",
       "      <td>F</td>\n",
       "      <td>16</td>\n",
       "      <td>U</td>\n",
       "      <td>GT3</td>\n",
       "      <td>T</td>\n",
       "      <td>3</td>\n",
       "      <td>3</td>\n",
       "      <td>other</td>\n",
       "      <td>other</td>\n",
       "      <td>...</td>\n",
       "      <td>4</td>\n",
       "      <td>3</td>\n",
       "      <td>2</td>\n",
       "      <td>1</td>\n",
       "      <td>2</td>\n",
       "      <td>5</td>\n",
       "      <td>4</td>\n",
       "      <td>6</td>\n",
       "      <td>10</td>\n",
       "      <td>10</td>\n",
       "    </tr>\n",
       "  </tbody>\n",
       "</table>\n",
       "<p>5 rows × 33 columns</p>\n",
       "</div>"
      ],
      "text/plain": [
       "  school sex  age address famsize Pstatus  Medu  Fedu     Mjob      Fjob  ...  \\\n",
       "0     GP   F   18       U     GT3       A     4     4  at_home   teacher  ...   \n",
       "1     GP   F   17       U     GT3       T     1     1  at_home     other  ...   \n",
       "2     GP   F   15       U     LE3       T     1     1  at_home     other  ...   \n",
       "3     GP   F   15       U     GT3       T     4     2   health  services  ...   \n",
       "4     GP   F   16       U     GT3       T     3     3    other     other  ...   \n",
       "\n",
       "  famrel freetime  goout  Dalc  Walc health absences  G1  G2  G3  \n",
       "0      4        3      4     1     1      3        6   5   6   6  \n",
       "1      5        3      3     1     1      3        4   5   5   6  \n",
       "2      4        3      2     2     3      3       10   7   8  10  \n",
       "3      3        2      2     1     1      5        2  15  14  15  \n",
       "4      4        3      2     1     2      5        4   6  10  10  \n",
       "\n",
       "[5 rows x 33 columns]"
      ]
     },
     "execution_count": 29,
     "metadata": {},
     "output_type": "execute_result"
    }
   ],
   "source": [
    "# Cargamos la Data y realizamos un join para la df final\n",
    "d1= pd.read_csv(\"student-mat.csv\",sep=\";\")\n",
    "d2= pd.read_csv(\"student-por.csv\",sep=\";\")\n",
    "\n",
    "df= pd.merge(d1,d2, how='left')\n",
    "\n",
    "df.head(5)\n",
    "\n",
    "# G3 es la variable independiente. Esta determina el grado final (0 a 20)"
   ]
  },
  {
   "cell_type": "code",
   "execution_count": 30,
   "id": "c6fcf154-c6a9-4ad6-bef8-8477847cca50",
   "metadata": {},
   "outputs": [
    {
     "data": {
      "text/plain": [
       "school        object\n",
       "sex           object\n",
       "age            int64\n",
       "address       object\n",
       "famsize       object\n",
       "Pstatus       object\n",
       "Medu           int64\n",
       "Fedu           int64\n",
       "Mjob          object\n",
       "Fjob          object\n",
       "reason        object\n",
       "guardian      object\n",
       "traveltime     int64\n",
       "studytime      int64\n",
       "failures       int64\n",
       "schoolsup     object\n",
       "famsup        object\n",
       "paid          object\n",
       "activities    object\n",
       "nursery       object\n",
       "higher        object\n",
       "internet      object\n",
       "romantic      object\n",
       "famrel         int64\n",
       "freetime       int64\n",
       "goout          int64\n",
       "Dalc           int64\n",
       "Walc           int64\n",
       "health         int64\n",
       "absences       int64\n",
       "G1             int64\n",
       "G2             int64\n",
       "G3             int64\n",
       "dtype: object"
      ]
     },
     "execution_count": 30,
     "metadata": {},
     "output_type": "execute_result"
    }
   ],
   "source": [
    "# Clase de cada variable\n",
    "df.dtypes"
   ]
  },
  {
   "cell_type": "code",
   "execution_count": 31,
   "id": "9d5ed889-5595-4944-84b2-92411248959e",
   "metadata": {},
   "outputs": [
    {
     "data": {
      "text/plain": [
       "school        0\n",
       "sex           0\n",
       "age           0\n",
       "address       0\n",
       "famsize       0\n",
       "Pstatus       0\n",
       "Medu          0\n",
       "Fedu          0\n",
       "Mjob          0\n",
       "Fjob          0\n",
       "reason        0\n",
       "guardian      0\n",
       "traveltime    0\n",
       "studytime     0\n",
       "failures      0\n",
       "schoolsup     0\n",
       "famsup        0\n",
       "paid          0\n",
       "activities    0\n",
       "nursery       0\n",
       "higher        0\n",
       "internet      0\n",
       "romantic      0\n",
       "famrel        0\n",
       "freetime      0\n",
       "goout         0\n",
       "Dalc          0\n",
       "Walc          0\n",
       "health        0\n",
       "absences      0\n",
       "G1            0\n",
       "G2            0\n",
       "G3            0\n",
       "dtype: int64"
      ]
     },
     "execution_count": 31,
     "metadata": {},
     "output_type": "execute_result"
    }
   ],
   "source": [
    "# Habra datos NA?\n",
    "df.isnull().sum()\n",
    "\n",
    "# no hay datos perdidos"
   ]
  },
  {
   "cell_type": "code",
   "execution_count": 32,
   "id": "dc6d2815-8da4-42e8-b46b-6a68246c6bbd",
   "metadata": {},
   "outputs": [
    {
     "data": {
      "text/plain": [
       "10    56\n",
       "11    47\n",
       "0     38\n",
       "15    33\n",
       "8     32\n",
       "13    31\n",
       "12    31\n",
       "9     28\n",
       "14    27\n",
       "16    16\n",
       "6     15\n",
       "18    12\n",
       "7      9\n",
       "5      7\n",
       "17     6\n",
       "19     5\n",
       "20     1\n",
       "4      1\n",
       "Name: G3, dtype: int64"
      ]
     },
     "execution_count": 32,
     "metadata": {},
     "output_type": "execute_result"
    }
   ],
   "source": [
    "# Cantidad de alumnos de acuerdo al puntaje final\n",
    "pd.value_counts(df['G3'])\n",
    "\n",
    "# El mayor puntaje es 20 y el menor es 1. De acuerdo a los resultados hay un solo puntaje mayor, es hombre o mujer?, tiene acceso a internet?, vive en ciudad o el campo, etc"
   ]
  },
  {
   "cell_type": "code",
   "execution_count": 33,
   "id": "03b66c45-0889-47c0-82cd-51018a0ffc4c",
   "metadata": {},
   "outputs": [
    {
     "data": {
      "text/plain": [
       "10    0.141772\n",
       "11    0.118987\n",
       "0     0.096203\n",
       "15    0.083544\n",
       "8     0.081013\n",
       "13    0.078481\n",
       "12    0.078481\n",
       "9     0.070886\n",
       "14    0.068354\n",
       "16    0.040506\n",
       "6     0.037975\n",
       "18    0.030380\n",
       "7     0.022785\n",
       "5     0.017722\n",
       "17    0.015190\n",
       "19    0.012658\n",
       "20    0.002532\n",
       "4     0.002532\n",
       "Name: G3, dtype: float64"
      ]
     },
     "execution_count": 33,
     "metadata": {},
     "output_type": "execute_result"
    }
   ],
   "source": [
    "# Calculo del porcentaje de cada nota final\n",
    "df.G3.value_counts(normalize=True)\n",
    "\n",
    "# el 33% de los alumnos obtuvieron nota final 10 y 11."
   ]
  },
  {
   "cell_type": "code",
   "execution_count": 34,
   "id": "dc156b24-f72c-49d5-a21b-f290d95433e4",
   "metadata": {},
   "outputs": [
    {
     "data": {
      "image/png": "[encoded data removed]",
      "text/plain": [
       "<Figure size 360x360 with 1 Axes>"
      ]
     },
     "metadata": {
      "needs_background": "light"
     },
     "output_type": "display_data"
    }
   ],
   "source": [
    "# Grafico de la cantidad de alumnos por nota final.\n",
    "# Si retiramos a los alumnos que obtuvieron nota 0, una hipotesis sería que estos alumnos no completaron el programa.\n",
    "# Sin los alumnos con nota final cero, podria ser una distribucion normal ?\n",
    "p = sns.catplot(x=\"G3\", kind=\"count\", palette=\"ch:.25\", data=df)\n"
   ]
  },
  {
   "cell_type": "code",
   "execution_count": 18,
   "id": "4c37a35a-2fc7-482e-b364-d85e71a6d434",
   "metadata": {},
   "outputs": [
    {
     "data": {
      "text/html": [
       "<div>\n",
       "<style scoped>\n",
       "    .dataframe tbody tr th:only-of-type {\n",
       "        vertical-align: middle;\n",
       "    }\n",
       "\n",
       "    .dataframe tbody tr th {\n",
       "        vertical-align: top;\n",
       "    }\n",
       "\n",
       "    .dataframe thead th {\n",
       "        text-align: right;\n",
       "    }\n",
       "</style>\n",
       "<table border=\"1\" class=\"dataframe\">\n",
       "  <thead>\n",
       "    <tr style=\"text-align: right;\">\n",
       "      <th>G3</th>\n",
       "      <th>0</th>\n",
       "      <th>4</th>\n",
       "      <th>5</th>\n",
       "      <th>6</th>\n",
       "      <th>7</th>\n",
       "      <th>8</th>\n",
       "      <th>9</th>\n",
       "      <th>10</th>\n",
       "      <th>11</th>\n",
       "      <th>12</th>\n",
       "      <th>13</th>\n",
       "      <th>14</th>\n",
       "      <th>15</th>\n",
       "      <th>16</th>\n",
       "      <th>17</th>\n",
       "      <th>18</th>\n",
       "      <th>19</th>\n",
       "      <th>20</th>\n",
       "      <th>All</th>\n",
       "    </tr>\n",
       "    <tr>\n",
       "      <th>sex</th>\n",
       "      <th></th>\n",
       "      <th></th>\n",
       "      <th></th>\n",
       "      <th></th>\n",
       "      <th></th>\n",
       "      <th></th>\n",
       "      <th></th>\n",
       "      <th></th>\n",
       "      <th></th>\n",
       "      <th></th>\n",
       "      <th></th>\n",
       "      <th></th>\n",
       "      <th></th>\n",
       "      <th></th>\n",
       "      <th></th>\n",
       "      <th></th>\n",
       "      <th></th>\n",
       "      <th></th>\n",
       "      <th></th>\n",
       "    </tr>\n",
       "  </thead>\n",
       "  <tbody>\n",
       "    <tr>\n",
       "      <th>F</th>\n",
       "      <td>23</td>\n",
       "      <td>1</td>\n",
       "      <td>3</td>\n",
       "      <td>13</td>\n",
       "      <td>4</td>\n",
       "      <td>14</td>\n",
       "      <td>17</td>\n",
       "      <td>30</td>\n",
       "      <td>29</td>\n",
       "      <td>11</td>\n",
       "      <td>17</td>\n",
       "      <td>14</td>\n",
       "      <td>16</td>\n",
       "      <td>6</td>\n",
       "      <td>3</td>\n",
       "      <td>5</td>\n",
       "      <td>2</td>\n",
       "      <td>0</td>\n",
       "      <td>208</td>\n",
       "    </tr>\n",
       "    <tr>\n",
       "      <th>M</th>\n",
       "      <td>15</td>\n",
       "      <td>0</td>\n",
       "      <td>4</td>\n",
       "      <td>2</td>\n",
       "      <td>5</td>\n",
       "      <td>18</td>\n",
       "      <td>11</td>\n",
       "      <td>26</td>\n",
       "      <td>18</td>\n",
       "      <td>20</td>\n",
       "      <td>14</td>\n",
       "      <td>13</td>\n",
       "      <td>17</td>\n",
       "      <td>10</td>\n",
       "      <td>3</td>\n",
       "      <td>7</td>\n",
       "      <td>3</td>\n",
       "      <td>1</td>\n",
       "      <td>187</td>\n",
       "    </tr>\n",
       "    <tr>\n",
       "      <th>All</th>\n",
       "      <td>38</td>\n",
       "      <td>1</td>\n",
       "      <td>7</td>\n",
       "      <td>15</td>\n",
       "      <td>9</td>\n",
       "      <td>32</td>\n",
       "      <td>28</td>\n",
       "      <td>56</td>\n",
       "      <td>47</td>\n",
       "      <td>31</td>\n",
       "      <td>31</td>\n",
       "      <td>27</td>\n",
       "      <td>33</td>\n",
       "      <td>16</td>\n",
       "      <td>6</td>\n",
       "      <td>12</td>\n",
       "      <td>5</td>\n",
       "      <td>1</td>\n",
       "      <td>395</td>\n",
       "    </tr>\n",
       "  </tbody>\n",
       "</table>\n",
       "</div>"
      ],
      "text/plain": [
       "G3    0  4  5   6  7   8   9  10  11  12  13  14  15  16  17  18  19  20  All\n",
       "sex                                                                          \n",
       "F    23  1  3  13  4  14  17  30  29  11  17  14  16   6   3   5   2   0  208\n",
       "M    15  0  4   2  5  18  11  26  18  20  14  13  17  10   3   7   3   1  187\n",
       "All  38  1  7  15  9  32  28  56  47  31  31  27  33  16   6  12   5   1  395"
      ]
     },
     "execution_count": 18,
     "metadata": {},
     "output_type": "execute_result"
    }
   ],
   "source": [
    "# Analisis bivariado entre sexo del alumno y la nota final obtenida.\n",
    "\n",
    "# Tabla de contingencia entre el Sexo del Alumno y el puntaje final\n",
    "pd.crosstab(index=df['sex'],columns=df['G3'], margins=True)\n",
    "\n",
    "# Finalmente el alumno que obtuvo la mejor nota final fue hombre."
   ]
  },
  {
   "cell_type": "code",
   "execution_count": 7,
   "id": "206be41c-0fb5-4097-84ee-60cb3ff0d281",
   "metadata": {},
   "outputs": [
    {
     "data": {
      "text/html": [
       "<div>\n",
       "<style scoped>\n",
       "    .dataframe tbody tr th:only-of-type {\n",
       "        vertical-align: middle;\n",
       "    }\n",
       "\n",
       "    .dataframe tbody tr th {\n",
       "        vertical-align: top;\n",
       "    }\n",
       "\n",
       "    .dataframe thead th {\n",
       "        text-align: right;\n",
       "    }\n",
       "</style>\n",
       "<table border=\"1\" class=\"dataframe\">\n",
       "  <thead>\n",
       "    <tr style=\"text-align: right;\">\n",
       "      <th>G3</th>\n",
       "      <th>0</th>\n",
       "      <th>4</th>\n",
       "      <th>5</th>\n",
       "      <th>6</th>\n",
       "      <th>7</th>\n",
       "      <th>8</th>\n",
       "      <th>9</th>\n",
       "      <th>10</th>\n",
       "      <th>11</th>\n",
       "      <th>12</th>\n",
       "      <th>13</th>\n",
       "      <th>14</th>\n",
       "      <th>15</th>\n",
       "      <th>16</th>\n",
       "      <th>17</th>\n",
       "      <th>18</th>\n",
       "      <th>19</th>\n",
       "      <th>20</th>\n",
       "      <th>All</th>\n",
       "    </tr>\n",
       "    <tr>\n",
       "      <th>sex</th>\n",
       "      <th></th>\n",
       "      <th></th>\n",
       "      <th></th>\n",
       "      <th></th>\n",
       "      <th></th>\n",
       "      <th></th>\n",
       "      <th></th>\n",
       "      <th></th>\n",
       "      <th></th>\n",
       "      <th></th>\n",
       "      <th></th>\n",
       "      <th></th>\n",
       "      <th></th>\n",
       "      <th></th>\n",
       "      <th></th>\n",
       "      <th></th>\n",
       "      <th></th>\n",
       "      <th></th>\n",
       "      <th></th>\n",
       "    </tr>\n",
       "  </thead>\n",
       "  <tbody>\n",
       "    <tr>\n",
       "      <th>F</th>\n",
       "      <td>5.822785</td>\n",
       "      <td>0.253165</td>\n",
       "      <td>0.759494</td>\n",
       "      <td>3.291139</td>\n",
       "      <td>1.012658</td>\n",
       "      <td>3.544304</td>\n",
       "      <td>4.303797</td>\n",
       "      <td>7.594937</td>\n",
       "      <td>7.341772</td>\n",
       "      <td>2.784810</td>\n",
       "      <td>4.303797</td>\n",
       "      <td>3.544304</td>\n",
       "      <td>4.050633</td>\n",
       "      <td>1.518987</td>\n",
       "      <td>0.759494</td>\n",
       "      <td>1.265823</td>\n",
       "      <td>0.506329</td>\n",
       "      <td>0.000000</td>\n",
       "      <td>52.658228</td>\n",
       "    </tr>\n",
       "    <tr>\n",
       "      <th>M</th>\n",
       "      <td>3.797468</td>\n",
       "      <td>0.000000</td>\n",
       "      <td>1.012658</td>\n",
       "      <td>0.506329</td>\n",
       "      <td>1.265823</td>\n",
       "      <td>4.556962</td>\n",
       "      <td>2.784810</td>\n",
       "      <td>6.582278</td>\n",
       "      <td>4.556962</td>\n",
       "      <td>5.063291</td>\n",
       "      <td>3.544304</td>\n",
       "      <td>3.291139</td>\n",
       "      <td>4.303797</td>\n",
       "      <td>2.531646</td>\n",
       "      <td>0.759494</td>\n",
       "      <td>1.772152</td>\n",
       "      <td>0.759494</td>\n",
       "      <td>0.253165</td>\n",
       "      <td>47.341772</td>\n",
       "    </tr>\n",
       "    <tr>\n",
       "      <th>All</th>\n",
       "      <td>9.620253</td>\n",
       "      <td>0.253165</td>\n",
       "      <td>1.772152</td>\n",
       "      <td>3.797468</td>\n",
       "      <td>2.278481</td>\n",
       "      <td>8.101266</td>\n",
       "      <td>7.088608</td>\n",
       "      <td>14.177215</td>\n",
       "      <td>11.898734</td>\n",
       "      <td>7.848101</td>\n",
       "      <td>7.848101</td>\n",
       "      <td>6.835443</td>\n",
       "      <td>8.354430</td>\n",
       "      <td>4.050633</td>\n",
       "      <td>1.518987</td>\n",
       "      <td>3.037975</td>\n",
       "      <td>1.265823</td>\n",
       "      <td>0.253165</td>\n",
       "      <td>100.000000</td>\n",
       "    </tr>\n",
       "  </tbody>\n",
       "</table>\n",
       "</div>"
      ],
      "text/plain": [
       "G3          0         4         5         6         7         8         9  \\\n",
       "sex                                                                         \n",
       "F    5.822785  0.253165  0.759494  3.291139  1.012658  3.544304  4.303797   \n",
       "M    3.797468  0.000000  1.012658  0.506329  1.265823  4.556962  2.784810   \n",
       "All  9.620253  0.253165  1.772152  3.797468  2.278481  8.101266  7.088608   \n",
       "\n",
       "G3          10         11        12        13        14        15        16  \\\n",
       "sex                                                                           \n",
       "F     7.594937   7.341772  2.784810  4.303797  3.544304  4.050633  1.518987   \n",
       "M     6.582278   4.556962  5.063291  3.544304  3.291139  4.303797  2.531646   \n",
       "All  14.177215  11.898734  7.848101  7.848101  6.835443  8.354430  4.050633   \n",
       "\n",
       "G3         17        18        19        20         All  \n",
       "sex                                                      \n",
       "F    0.759494  1.265823  0.506329  0.000000   52.658228  \n",
       "M    0.759494  1.772152  0.759494  0.253165   47.341772  \n",
       "All  1.518987  3.037975  1.265823  0.253165  100.000000  "
      ]
     },
     "execution_count": 7,
     "metadata": {},
     "output_type": "execute_result"
    }
   ],
   "source": [
    "# tabla de contingencia en porcentajes relativos total\n",
    "pd.crosstab(index=df['sex'], columns=df['G3'],\n",
    "            margins=True).apply(lambda r: r/len(df) *100, axis=1)"
   ]
  },
  {
   "cell_type": "code",
   "execution_count": 38,
   "id": "e4830c0b-c7f1-4398-9534-b4a6843a42a4",
   "metadata": {},
   "outputs": [
    {
     "data": {
      "image/png": "[encoded data removed]",
      "text/plain": [
       "<Figure size 1080x576 with 1 Axes>"
      ]
     },
     "metadata": {},
     "output_type": "display_data"
    }
   ],
   "source": [
    "# Cantidad de alumnos segun nota final por sexo\n",
    "sns.set(rc = {'figure.figsize':(15,8)})\n",
    "p = sns.countplot(x='G3',hue=\"sex\",data=df)\n"
   ]
  },
  {
   "cell_type": "code",
   "execution_count": 52,
   "id": "b0ffe3ad-ad14-4b2b-aed0-0b5736f66a1c",
   "metadata": {},
   "outputs": [
    {
     "data": {
      "image/png": "[encoded data removed]",
      "text/plain": [
       "<Figure size 864x288 with 2 Axes>"
      ]
     },
     "metadata": {},
     "output_type": "display_data"
    }
   ],
   "source": [
    "# Grafico separado por sexo\n",
    "\n",
    "g = sns.catplot(x=\"G3\", hue=\"sex\", col=\"sex\",data=df, kind=\"count\",height=4, aspect=1.5). fig . suptitle (' Distribución por Sexo de las notas finales ')\n"
   ]
  },
  {
   "cell_type": "code",
   "execution_count": 53,
   "id": "05f83e90-deb0-43c7-89d6-660188c8bec7",
   "metadata": {},
   "outputs": [
    {
     "data": {
      "image/png": "[encoded data removed]",
      "text/plain": [
       "<Figure size 1080x576 with 1 Axes>"
      ]
     },
     "metadata": {},
     "output_type": "display_data"
    }
   ],
   "source": [
    "# Notas finales por sexo\n",
    "sns.set(rc = {'figure.figsize':(15,8)})\n",
    "w = sns.countplot(x='G3',data=df,hue='sex').set (title = 'Distribución de las notas finales de acuerdo al sexo del Alumno')"
   ]
  },
  {
   "cell_type": "code",
   "execution_count": 49,
   "id": "e580e4e4-0c71-4faa-9a68-9d1f33d7a9c4",
   "metadata": {},
   "outputs": [
    {
     "data": {
      "image/png": "[encoded data removed]",
      "text/plain": [
       "<Figure size 1080x576 with 1 Axes>"
      ]
     },
     "metadata": {},
     "output_type": "display_data"
    }
   ],
   "source": [
    "# Analisis bivariado entre la nota final obtenida y si el alumno obtuvo acceso a internet.\n",
    "\n",
    "# Distribucion de las notas finales de acuerdo si en casa hay internet\n",
    "\n",
    "sns.set(rc = {'figure.figsize':(15,8)})\n",
    "p = sns.countplot(x='G3',hue=\"internet\",data=df,palette=\"Set2\"). set (title = 'Distribución de las notas finales de acuerdo si en casa hay internet ')\n",
    "\n",
    "# al parecer el internet influye en las notas finales"
   ]
  },
  {
   "cell_type": "code",
   "execution_count": 55,
   "id": "f35a3a81-58a1-4ac0-a663-e846cc57348f",
   "metadata": {},
   "outputs": [
    {
     "data": {
      "image/png": "[encoded data removed]",
      "text/plain": [
       "<Figure size 1080x576 with 1 Axes>"
      ]
     },
     "metadata": {},
     "output_type": "display_data"
    }
   ],
   "source": [
    "# Analisis Notas Finales y la intencion de continuar con estudios superiores\n",
    "# Distribucion de las notas finales de acuerdo si la intención del alumno es seguir estudiando\n",
    "p = sns.countplot(x='G3',hue=\"higher\",\n",
    "                  data=df).set (title = 'Distribución de las notas finales de acuerdo si hay intencion del alumno de continuar estudiando ')\n",
    "\n",
    "\n",
    "# La intención de cada alumno de seguir sus estudios en la enseñanza superior es \n",
    "# fundamental a la hora de conseguir buenas resultados"
   ]
  },
  {
   "cell_type": "code",
   "execution_count": 56,
   "id": "2dfdf7c8-dc52-41b5-a383-56fb21c7cf2b",
   "metadata": {},
   "outputs": [
    {
     "data": {
      "image/png": "[encoded data removed]",
      "text/plain": [
       "<Figure size 1080x576 with 1 Axes>"
      ]
     },
     "metadata": {},
     "output_type": "display_data"
    }
   ],
   "source": [
    "# Analisis Notas Finales y el lugar de residencia del alumno (Rural o Urbano)\n",
    "\n",
    "p = sns.countplot(x='G3',hue=\"address\",data=df,palette=\"Set2\").set(title = 'Distribución de las notas finales de acuerdo al lugar de residencia del alumno ')\n",
    "\n",
    "# Los alumnos que viven en zonas urbanas obtienen mejores calificaciones finales\n"
   ]
  },
  {
   "cell_type": "code",
   "execution_count": 60,
   "id": "aa2f94b9-1f89-4127-bfdf-1a3d94990506",
   "metadata": {},
   "outputs": [
    {
     "data": {
      "image/png": "[encoded data removed]",
      "text/plain": [
       "<Figure size 1080x576 with 1 Axes>"
      ]
     },
     "metadata": {},
     "output_type": "display_data"
    }
   ],
   "source": [
    "# Analisis Notas Finales y si el alumno esta en una relacion amorosa o no\n",
    "p = sns.countplot(x='G3',hue=\"romantic\",data=df,palette=\"Set3\").set(title = 'Distribución de las notas finales de acuerdo al estado amoroso del alumno')\n",
    "\n",
    "\n",
    "# Aquellos que estan en una relacion amorosa obtienen mejores resultados? :)"
   ]
  },
  {
   "cell_type": "markdown",
   "id": "1c406010-d046-465b-a190-c311a11e44ed",
   "metadata": {},
   "source": [
    "### Conclusiones preliminares\n",
    "\n",
    "- La mejor nota obtenida fue de un alumno.\n",
    "- Los alumnos que tienen internet en casa obtienen mejores calificaciones\n",
    "- El 33% de los alumnos obtuvieron nota entre 10 y 11\n",
    "- Los alumnos que declaran seguir estudiando obtienen mejores calificaciones\n",
    "- Los alumnos que viven en zonas urbanas obtienen mejores notas que aquellos que viven en zonas rurales\n",
    "\n",
    "\n",
    "Estas pequeñas conclusiones son una pista que se deben profundizar en la etapa de Análisis de datos."
   ]
  }
 ],
 "metadata": {
  "kernelspec": {
   "display_name": "Python 3 (ipykernel)",
   "language": "python",
   "name": "python3"
  },
  "language_info": {
   "codemirror_mode": {
    "name": "ipython",
    "version": 3
   },
   "file_extension": ".py",
   "mimetype": "text/x-python",
   "name": "python",
   "nbconvert_exporter": "python",
   "pygments_lexer": "ipython3",
   "version": "3.9.7"
  }
 },
 "nbformat": 4,
 "nbformat_minor": 5
}
